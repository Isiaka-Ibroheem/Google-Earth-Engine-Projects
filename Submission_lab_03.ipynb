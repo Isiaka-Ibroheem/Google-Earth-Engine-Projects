{
 "cells": [
  {
   "cell_type": "markdown",
   "id": "nVYUa0apdgOQ",
   "metadata": {
    "id": "nVYUa0apdgOQ"
   },
   "source": [
    "# Lab 3\n",
    "\n",
    "\n",
    "[![Open In Colab](https://colab.research.google.com/assets/colab-badge.svg)](https://colab.research.google.com/github/giswqs/geog-414/blob/master/book/labs/lab_03.ipynb)\n",
    "\n",
    "## Submission requirements\n",
    "\n",
    "1. Upload a screenshot of your map for each question.\n",
    "2. Provide a link to your notebook on Colab. See instructions [here](https://geog-414.gishub.org/book/labs/instructions.html).\n"
   ]
  },
  {
   "cell_type": "markdown",
   "id": "R7zlmCekdgOW",
   "metadata": {
    "id": "R7zlmCekdgOW",
    "tags": []
   },
   "source": [
    "## Question 1\n",
    "\n",
    "Find a DEM dataset in the [Earth Engine Data Catalog](https://developers.google.com/earth-engine/datasets/), clip the DEM to your home state, and display the DEM with a proper color palette on the map. For example, the sample map below shows the DEM of the state of Colorado."
   ]
  },
  {
   "cell_type": "code",
   "execution_count": 1,
   "id": "I87POpKlkQsB",
   "metadata": {
    "id": "I87POpKlkQsB"
   },
   "outputs": [],
   "source": [
    "import geemap\n",
    "import ee"
   ]
  },
  {
   "cell_type": "code",
   "execution_count": 2,
   "id": "oPG0dTzckZ0-",
   "metadata": {
    "colab": {
     "base_uri": "https://localhost:8080/",
     "height": 17
    },
    "id": "oPG0dTzckZ0-",
    "outputId": "5cc8e47e-2b16-448c-9734-80d6699de94f"
   },
   "outputs": [
    {
     "data": {
      "text/html": [
       "\n",
       "            <style>\n",
       "                .geemap-dark {\n",
       "                    --jp-widgets-color: white;\n",
       "                    --jp-widgets-label-color: white;\n",
       "                    --jp-ui-font-color1: white;\n",
       "                    --jp-layout-color2: #454545;\n",
       "                    background-color: #383838;\n",
       "                }\n",
       "                    \n",
       "                .geemap-dark .jupyter-button {\n",
       "                    --jp-layout-color3: #383838;\n",
       "                }\n",
       "                \n",
       "                .geemap-colab {\n",
       "                    background-color: var(--colab-primary-surface-color, white);\n",
       "                }\n",
       "                    \n",
       "                .geemap-colab .jupyter-button {\n",
       "                    --jp-layout-color3: var(--colab-primary-surface-color, white);\n",
       "                }\n",
       "            </style>\n",
       "            "
      ],
      "text/plain": [
       "<IPython.core.display.HTML object>"
      ]
     },
     "metadata": {},
     "output_type": "display_data"
    }
   ],
   "source": [
    "geemap.ee_initialize()"
   ]
  },
  {
   "cell_type": "code",
   "execution_count": 3,
   "id": "69896430",
   "metadata": {},
   "outputs": [
    {
     "data": {
      "text/html": [
       "\n",
       "            <style>\n",
       "                .geemap-dark {\n",
       "                    --jp-widgets-color: white;\n",
       "                    --jp-widgets-label-color: white;\n",
       "                    --jp-ui-font-color1: white;\n",
       "                    --jp-layout-color2: #454545;\n",
       "                    background-color: #383838;\n",
       "                }\n",
       "                    \n",
       "                .geemap-dark .jupyter-button {\n",
       "                    --jp-layout-color3: #383838;\n",
       "                }\n",
       "                \n",
       "                .geemap-colab {\n",
       "                    background-color: var(--colab-primary-surface-color, white);\n",
       "                }\n",
       "                    \n",
       "                .geemap-colab .jupyter-button {\n",
       "                    --jp-layout-color3: var(--colab-primary-surface-color, white);\n",
       "                }\n",
       "            </style>\n",
       "            "
      ],
      "text/plain": [
       "<IPython.core.display.HTML object>"
      ]
     },
     "metadata": {},
     "output_type": "display_data"
    },
    {
     "data": {
      "application/vnd.jupyter.widget-view+json": {
       "model_id": "a32473e338684fb7b155bbc2d8f85569",
       "version_major": 2,
       "version_minor": 0
      },
      "text/plain": [
       "Map(center=[9, 7.4], controls=(WidgetControl(options=['position', 'transparent_bg'], widget=SearchDataGUI(chil…"
      ]
     },
     "metadata": {},
     "output_type": "display_data"
    }
   ],
   "source": [
    "Map = geemap.Map(center =[9,7.4], zoom =9)\n",
    "Map"
   ]
  },
  {
   "cell_type": "code",
   "execution_count": 4,
   "id": "672a0efb",
   "metadata": {},
   "outputs": [
    {
     "data": {
      "text/html": [
       "\n",
       "            <style>\n",
       "                .geemap-dark {\n",
       "                    --jp-widgets-color: white;\n",
       "                    --jp-widgets-label-color: white;\n",
       "                    --jp-ui-font-color1: white;\n",
       "                    --jp-layout-color2: #454545;\n",
       "                    background-color: #383838;\n",
       "                }\n",
       "                    \n",
       "                .geemap-dark .jupyter-button {\n",
       "                    --jp-layout-color3: #383838;\n",
       "                }\n",
       "                \n",
       "                .geemap-colab {\n",
       "                    background-color: var(--colab-primary-surface-color, white);\n",
       "                }\n",
       "                    \n",
       "                .geemap-colab .jupyter-button {\n",
       "                    --jp-layout-color3: var(--colab-primary-surface-color, white);\n",
       "                }\n",
       "            </style>\n",
       "            "
      ],
      "text/plain": [
       "<IPython.core.display.HTML object>"
      ]
     },
     "metadata": {},
     "output_type": "display_data"
    },
    {
     "data": {
      "application/vnd.jupyter.widget-view+json": {
       "model_id": "a32473e338684fb7b155bbc2d8f85569",
       "version_major": 2,
       "version_minor": 0
      },
      "text/plain": [
       "Map(center=[9, 7.4], controls=(WidgetControl(options=['position', 'transparent_bg'], widget=SearchDataGUI(chil…"
      ]
     },
     "metadata": {},
     "output_type": "display_data"
    }
   ],
   "source": [
    "Home_State = ee.Geometry.Rectangle([6.6411, 8.3679, 7.8526, 9.4478])\n",
    "Map.addLayer(Home_State, {}, 'Abuja')\n",
    "Map"
   ]
  },
  {
   "cell_type": "code",
   "execution_count": 8,
   "id": "ZKNaYXBPdgOZ",
   "metadata": {
    "id": "ZKNaYXBPdgOZ",
    "scrolled": true
   },
   "outputs": [
    {
     "data": {
      "text/html": [
       "\n",
       "            <style>\n",
       "                .geemap-dark {\n",
       "                    --jp-widgets-color: white;\n",
       "                    --jp-widgets-label-color: white;\n",
       "                    --jp-ui-font-color1: white;\n",
       "                    --jp-layout-color2: #454545;\n",
       "                    background-color: #383838;\n",
       "                }\n",
       "                    \n",
       "                .geemap-dark .jupyter-button {\n",
       "                    --jp-layout-color3: #383838;\n",
       "                }\n",
       "                \n",
       "                .geemap-colab {\n",
       "                    background-color: var(--colab-primary-surface-color, white);\n",
       "                }\n",
       "                    \n",
       "                .geemap-colab .jupyter-button {\n",
       "                    --jp-layout-color3: var(--colab-primary-surface-color, white);\n",
       "                }\n",
       "            </style>\n",
       "            "
      ],
      "text/plain": [
       "<IPython.core.display.HTML object>"
      ]
     },
     "metadata": {},
     "output_type": "display_data"
    },
    {
     "data": {
      "application/vnd.jupyter.widget-view+json": {
       "model_id": "5c98d629fcdd4332b954f0ce6962f351",
       "version_major": 2,
       "version_minor": 0
      },
      "text/plain": [
       "Map(bottom=62576.0, center=[8.917860233053965, 7.227600000000018], controls=(WidgetControl(options=['position'…"
      ]
     },
     "metadata": {},
     "output_type": "display_data"
    }
   ],
   "source": [
    "# Add your code here.\n",
    "DEM = ee.Image(\"USGS/SRTMGL1_003\")\n",
    "Abuja = ee.Geometry.Rectangle([6.6438, 8.3994, 7.8114, 9.4359]) #Geometry defining the Boundary of Abuja\n",
    "AOI = DEM.clip(Abuja) #Clipping out the Area of Interest\n",
    "\n",
    "# Add text to the map\n",
    "text = \"Isiaka Ibrahim Opeyemi\"\n",
    "Map.add_text(text, fontsize=20, position='bottomright')\n",
    "\n",
    "#Creating the outline for the Bounding Box\n",
    "Boundary = ee.Geometry.Rectangle([6.6438, 8.3994, 7.8114, 9.4359])\n",
    "vis_params_b = {\n",
    "    'lineType':'solid',\n",
    "    'lineColor':'ff0000',\n",
    "    'width':3\n",
    "}\n",
    "Map.addLayer(Boundary, vis_params_b, 'Boundary')\n",
    "\n",
    "#Set Visualization Parameters\n",
    "vis_params = {\n",
    "    'min': 0,\n",
    "    'max': 750,\n",
    "    'palette':['006633', 'E5FFCC', '662A00', 'D8D8D8', 'F5F5F5']\n",
    "}\n",
    "Map.addLayer(AOI, vis_params, 'DEM of Abuja')\n",
    "#Map.centerObject(AOI, zoom =9)\n",
    "Map"
   ]
  },
  {
   "cell_type": "markdown",
   "id": "9yZV8B7idgOb",
   "metadata": {
    "id": "9yZV8B7idgOb"
   },
   "source": [
    "![](https://i.imgur.com/OLeSt7n.png)"
   ]
  },
  {
   "cell_type": "markdown",
   "id": "6XddxBXFdgOd",
   "metadata": {
    "id": "6XddxBXFdgOd"
   },
   "source": [
    "## Question 2\n",
    "\n",
    "Use [Sentinel-2](https://developers.google.com/earth-engine/datasets/catalog/sentinel-2) or [Landsat-9 data](https://developers.google.com/earth-engine/datasets/catalog/landsat-9), create a cloud-free imagery of the year 2021 for your home state. Display the imagery on the map with a proper band combination. For example, the sample map below shows a cloud-free false-color composite of Sentinel-2 imagery of the year 2021 for the state of Colorado."
   ]
  },
  {
   "cell_type": "code",
   "execution_count": 6,
   "id": "eFRtrXEadgOe",
   "metadata": {
    "id": "eFRtrXEadgOe",
    "scrolled": true
   },
   "outputs": [
    {
     "data": {
      "text/html": [
       "\n",
       "            <style>\n",
       "                .geemap-dark {\n",
       "                    --jp-widgets-color: white;\n",
       "                    --jp-widgets-label-color: white;\n",
       "                    --jp-ui-font-color1: white;\n",
       "                    --jp-layout-color2: #454545;\n",
       "                    background-color: #383838;\n",
       "                }\n",
       "                    \n",
       "                .geemap-dark .jupyter-button {\n",
       "                    --jp-layout-color3: #383838;\n",
       "                }\n",
       "                \n",
       "                .geemap-colab {\n",
       "                    background-color: var(--colab-primary-surface-color, white);\n",
       "                }\n",
       "                    \n",
       "                .geemap-colab .jupyter-button {\n",
       "                    --jp-layout-color3: var(--colab-primary-surface-color, white);\n",
       "                }\n",
       "            </style>\n",
       "            "
      ],
      "text/plain": [
       "<IPython.core.display.HTML object>"
      ]
     },
     "metadata": {},
     "output_type": "display_data"
    },
    {
     "data": {
      "application/vnd.jupyter.widget-view+json": {
       "model_id": "5c98d629fcdd4332b954f0ce6962f351",
       "version_major": 2,
       "version_minor": 0
      },
      "text/plain": [
       "Map(center=[8.917860233053965, 7.227600000000018], controls=(WidgetControl(options=['position', 'transparent_b…"
      ]
     },
     "metadata": {},
     "output_type": "display_data"
    }
   ],
   "source": [
    "# Add your code here.\n",
    "Map = geemap.Map(center = [9, 7.4], zoom =9)\n",
    "Sentinel_2 = (ee.ImageCollection('COPERNICUS/S2_SR') \n",
    "              .filterDate('2021-01-01', '2021-12-31')\n",
    "              .filter(ee.Filter.lt('CLOUDY_PIXEL_PERCENTAGE', 1)))\n",
    "image = Sentinel_2.median()\n",
    "image_ = image.clip(Abuja)\n",
    "\n",
    "# Add text to the map\n",
    "text = \"Isiaka Ibrahim Opeyemi\"\n",
    "\n",
    "#Creating the outline for the Bounding Box\n",
    "Boundary = ee.Geometry.Rectangle([6.6438, 8.3994, 7.8114, 9.4359])\n",
    "vis_params_b = {\n",
    "    'lineType':'solid',\n",
    "    'lineColor':'ff0000',\n",
    "    'width':3\n",
    "}\n",
    "Map.addLayer(Boundary, vis_params_b, 'Boundary')\n",
    "\n",
    "#The Sentinel Output\n",
    "Map.add_text(text, fontsize=20, position='bottomright')\n",
    "vis_params = {\n",
    "    'min':0,\n",
    "    'max':2000,\n",
    "    'bands': ['B8','B4', 'B3'],\n",
    "    'gamma': [0.95, 1.1, 1]\n",
    "}\n",
    "Map.addLayer(image_, vis_params, 'Abuja False Colour')\n",
    "Map.centerObject(image_, zoom =9)\n",
    "Map"
   ]
  },
  {
   "cell_type": "markdown",
   "id": "SCxol_jLdgOg",
   "metadata": {
    "id": "SCxol_jLdgOg"
   },
   "source": [
    "![](https://i.imgur.com/wD0VamV.png)"
   ]
  }
 ],
 "metadata": {
  "colab": {
   "provenance": []
  },
  "kernelspec": {
   "display_name": "Python 3",
   "language": "python",
   "name": "python3"
  },
  "language_info": {
   "codemirror_mode": {
    "name": "ipython",
    "version": 3
   },
   "file_extension": ".py",
   "mimetype": "text/x-python",
   "name": "python",
   "nbconvert_exporter": "python",
   "pygments_lexer": "ipython3",
   "version": "3.8.8"
  }
 },
 "nbformat": 4,
 "nbformat_minor": 5
}
